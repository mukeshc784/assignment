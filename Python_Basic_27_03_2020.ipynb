{
  "nbformat": 4,
  "nbformat_minor": 0,
  "metadata": {
    "colab": {
      "name": "Python Basic 26.03.2020.ipynb",
      "provenance": [],
      "authorship_tag": "ABX9TyM/dO/cMl81zeMOZPXtxrRi",
      "include_colab_link": true
    },
    "kernelspec": {
      "name": "python3",
      "display_name": "Python 3"
    }
  },
  "cells": [
    {
      "cell_type": "markdown",
      "metadata": {
        "id": "view-in-github",
        "colab_type": "text"
      },
      "source": [
        "<a href=\"https://colab.research.google.com/github/mukeshc784/python-basic/blob/master/Python_Basic_27_03_2020.ipynb\" target=\"_parent\"><img src=\"https://colab.research.google.com/assets/colab-badge.svg\" alt=\"Open In Colab\"/></a>"
      ]
    },
    {
      "cell_type": "code",
      "metadata": {
        "id": "Iu-AJthVX2F6",
        "colab_type": "code",
        "outputId": "8e4c5237-eb1a-470d-c4f0-c7931a74b22a",
        "colab": {
          "base_uri": "https://localhost:8080/",
          "height": 34
        }
      },
      "source": [
        "!ls\n"
      ],
      "execution_count": 0,
      "outputs": [
        {
          "output_type": "stream",
          "text": [
            "sample_data\n"
          ],
          "name": "stdout"
        }
      ]
    },
    {
      "cell_type": "code",
      "metadata": {
        "id": "C3swnB8sYvgI",
        "colab_type": "code",
        "colab": {
          "base_uri": "https://localhost:8080/",
          "height": 955
        },
        "outputId": "efd6a4da-d040-46be-8b44-68d16677899b"
      },
      "source": [
        "!cat /proc/cpuinfo"
      ],
      "execution_count": 2,
      "outputs": [
        {
          "output_type": "stream",
          "text": [
            "processor\t: 0\n",
            "vendor_id\t: GenuineIntel\n",
            "cpu family\t: 6\n",
            "model\t\t: 79\n",
            "model name\t: Intel(R) Xeon(R) CPU @ 2.20GHz\n",
            "stepping\t: 0\n",
            "microcode\t: 0x1\n",
            "cpu MHz\t\t: 2200.000\n",
            "cache size\t: 56320 KB\n",
            "physical id\t: 0\n",
            "siblings\t: 2\n",
            "core id\t\t: 0\n",
            "cpu cores\t: 1\n",
            "apicid\t\t: 0\n",
            "initial apicid\t: 0\n",
            "fpu\t\t: yes\n",
            "fpu_exception\t: yes\n",
            "cpuid level\t: 13\n",
            "wp\t\t: yes\n",
            "flags\t\t: fpu vme de pse tsc msr pae mce cx8 apic sep mtrr pge mca cmov pat pse36 clflush mmx fxsr sse sse2 ss ht syscall nx pdpe1gb rdtscp lm constant_tsc rep_good nopl xtopology nonstop_tsc cpuid tsc_known_freq pni pclmulqdq ssse3 fma cx16 pcid sse4_1 sse4_2 x2apic movbe popcnt aes xsave avx f16c rdrand hypervisor lahf_lm abm 3dnowprefetch invpcid_single ssbd ibrs ibpb stibp fsgsbase tsc_adjust bmi1 hle avx2 smep bmi2 erms invpcid rtm rdseed adx smap xsaveopt arat md_clear arch_capabilities\n",
            "bugs\t\t: cpu_meltdown spectre_v1 spectre_v2 spec_store_bypass l1tf mds swapgs\n",
            "bogomips\t: 4400.00\n",
            "clflush size\t: 64\n",
            "cache_alignment\t: 64\n",
            "address sizes\t: 46 bits physical, 48 bits virtual\n",
            "power management:\n",
            "\n",
            "processor\t: 1\n",
            "vendor_id\t: GenuineIntel\n",
            "cpu family\t: 6\n",
            "model\t\t: 79\n",
            "model name\t: Intel(R) Xeon(R) CPU @ 2.20GHz\n",
            "stepping\t: 0\n",
            "microcode\t: 0x1\n",
            "cpu MHz\t\t: 2200.000\n",
            "cache size\t: 56320 KB\n",
            "physical id\t: 0\n",
            "siblings\t: 2\n",
            "core id\t\t: 0\n",
            "cpu cores\t: 1\n",
            "apicid\t\t: 1\n",
            "initial apicid\t: 1\n",
            "fpu\t\t: yes\n",
            "fpu_exception\t: yes\n",
            "cpuid level\t: 13\n",
            "wp\t\t: yes\n",
            "flags\t\t: fpu vme de pse tsc msr pae mce cx8 apic sep mtrr pge mca cmov pat pse36 clflush mmx fxsr sse sse2 ss ht syscall nx pdpe1gb rdtscp lm constant_tsc rep_good nopl xtopology nonstop_tsc cpuid tsc_known_freq pni pclmulqdq ssse3 fma cx16 pcid sse4_1 sse4_2 x2apic movbe popcnt aes xsave avx f16c rdrand hypervisor lahf_lm abm 3dnowprefetch invpcid_single ssbd ibrs ibpb stibp fsgsbase tsc_adjust bmi1 hle avx2 smep bmi2 erms invpcid rtm rdseed adx smap xsaveopt arat md_clear arch_capabilities\n",
            "bugs\t\t: cpu_meltdown spectre_v1 spectre_v2 spec_store_bypass l1tf mds swapgs\n",
            "bogomips\t: 4400.00\n",
            "clflush size\t: 64\n",
            "cache_alignment\t: 64\n",
            "address sizes\t: 46 bits physical, 48 bits virtual\n",
            "power management:\n",
            "\n"
          ],
          "name": "stdout"
        }
      ]
    },
    {
      "cell_type": "code",
      "metadata": {
        "id": "E9y4KJ1YZomK",
        "colab_type": "code",
        "colab": {}
      },
      "source": [
        "!cat /proc/meminfo"
      ],
      "execution_count": 0,
      "outputs": []
    },
    {
      "cell_type": "code",
      "metadata": {
        "id": "6rsCfYBCaCml",
        "colab_type": "code",
        "colab": {
          "base_uri": "https://localhost:8080/",
          "height": 34
        },
        "outputId": "a26e3fbe-eb61-4e7c-d278-cc4e7084d229"
      },
      "source": [
        "name = 'iphone 5s'\n",
        "type (name)"
      ],
      "execution_count": 3,
      "outputs": [
        {
          "output_type": "execute_result",
          "data": {
            "text/plain": [
              "str"
            ]
          },
          "metadata": {
            "tags": []
          },
          "execution_count": 3
        }
      ]
    },
    {
      "cell_type": "markdown",
      "metadata": {
        "id": "kSHWF8qmvFOI",
        "colab_type": "text"
      },
      "source": [
        "# LIST"
      ]
    },
    {
      "cell_type": "code",
      "metadata": {
        "id": "tcpvWp-Evczn",
        "colab_type": "code",
        "colab": {
          "base_uri": "https://localhost:8080/",
          "height": 34
        },
        "outputId": "6e204af0-a4f4-4fd0-deab-1c61f20e1ec0"
      },
      "source": [
        "name = 'iphone 5s'\n",
        "type(name)"
      ],
      "execution_count": 6,
      "outputs": [
        {
          "output_type": "execute_result",
          "data": {
            "text/plain": [
              "str"
            ]
          },
          "metadata": {
            "tags": []
          },
          "execution_count": 6
        }
      ]
    },
    {
      "cell_type": "code",
      "metadata": {
        "id": "9rtEmV2wwbRT",
        "colab_type": "code",
        "colab": {
          "base_uri": "https://localhost:8080/",
          "height": 34
        },
        "outputId": "4f99e612-bf0a-4a2c-f83d-80fb70562c38"
      },
      "source": [
        "is_android = True\n",
        "type(is_android)"
      ],
      "execution_count": 7,
      "outputs": [
        {
          "output_type": "execute_result",
          "data": {
            "text/plain": [
              "bool"
            ]
          },
          "metadata": {
            "tags": []
          },
          "execution_count": 7
        }
      ]
    },
    {
      "cell_type": "code",
      "metadata": {
        "id": "3Zv5h0i_wleQ",
        "colab_type": "code",
        "colab": {
          "base_uri": "https://localhost:8080/",
          "height": 34
        },
        "outputId": "af2a535f-6bd4-40ec-9310-7a02868deda8"
      },
      "source": [
        "screen_size = 4.3\n",
        "type(screen_size)"
      ],
      "execution_count": 8,
      "outputs": [
        {
          "output_type": "execute_result",
          "data": {
            "text/plain": [
              "float"
            ]
          },
          "metadata": {
            "tags": []
          },
          "execution_count": 8
        }
      ]
    },
    {
      "cell_type": "code",
      "metadata": {
        "id": "0o4G0OeSwvJs",
        "colab_type": "code",
        "colab": {
          "base_uri": "https://localhost:8080/",
          "height": 34
        },
        "outputId": "5f4ab548-43ee-4324-8441-e267a878354f"
      },
      "source": [
        "my_phone = [name, is_android, screen_size]\n",
        "type(my_phone)"
      ],
      "execution_count": 9,
      "outputs": [
        {
          "output_type": "execute_result",
          "data": {
            "text/plain": [
              "list"
            ]
          },
          "metadata": {
            "tags": []
          },
          "execution_count": 9
        }
      ]
    },
    {
      "cell_type": "code",
      "metadata": {
        "id": "qFkETOXQxCKJ",
        "colab_type": "code",
        "colab": {
          "base_uri": "https://localhost:8080/",
          "height": 34
        },
        "outputId": "71435bf7-6410-40ae-912c-33d94e1a041a"
      },
      "source": [
        "print(my_phone)"
      ],
      "execution_count": 10,
      "outputs": [
        {
          "output_type": "stream",
          "text": [
            "['iphone 5s', True, 4.3]\n"
          ],
          "name": "stdout"
        }
      ]
    },
    {
      "cell_type": "code",
      "metadata": {
        "id": "41NtpX2rxScC",
        "colab_type": "code",
        "colab": {
          "base_uri": "https://localhost:8080/",
          "height": 34
        },
        "outputId": "333015a4-0063-4dcc-f360-806fb95df781"
      },
      "source": [
        "my_phone[0]"
      ],
      "execution_count": 11,
      "outputs": [
        {
          "output_type": "execute_result",
          "data": {
            "text/plain": [
              "'iphone 5s'"
            ]
          },
          "metadata": {
            "tags": []
          },
          "execution_count": 11
        }
      ]
    },
    {
      "cell_type": "code",
      "metadata": {
        "id": "iCZ0BthdxZKw",
        "colab_type": "code",
        "colab": {
          "base_uri": "https://localhost:8080/",
          "height": 34
        },
        "outputId": "ef87fecc-8f83-4bb1-a34a-35bd56a66202"
      },
      "source": [
        "type(my_phone[0])"
      ],
      "execution_count": 12,
      "outputs": [
        {
          "output_type": "execute_result",
          "data": {
            "text/plain": [
              "str"
            ]
          },
          "metadata": {
            "tags": []
          },
          "execution_count": 12
        }
      ]
    },
    {
      "cell_type": "code",
      "metadata": {
        "id": "G5BGqOqxxiJr",
        "colab_type": "code",
        "colab": {
          "base_uri": "https://localhost:8080/",
          "height": 34
        },
        "outputId": "c27f21f4-0294-4298-9531-2e14a4fad921"
      },
      "source": [
        "type(my_phone[1])"
      ],
      "execution_count": 13,
      "outputs": [
        {
          "output_type": "execute_result",
          "data": {
            "text/plain": [
              "bool"
            ]
          },
          "metadata": {
            "tags": []
          },
          "execution_count": 13
        }
      ]
    },
    {
      "cell_type": "code",
      "metadata": {
        "id": "iX9mj9yaxreZ",
        "colab_type": "code",
        "colab": {
          "base_uri": "https://localhost:8080/",
          "height": 34
        },
        "outputId": "988cd427-bd05-4288-bda5-d6edc3b4dac8"
      },
      "source": [
        "my_phone[0:2]"
      ],
      "execution_count": 14,
      "outputs": [
        {
          "output_type": "execute_result",
          "data": {
            "text/plain": [
              "['iphone 5s', True]"
            ]
          },
          "metadata": {
            "tags": []
          },
          "execution_count": 14
        }
      ]
    },
    {
      "cell_type": "code",
      "metadata": {
        "id": "6I7UOM3Cx8Yl",
        "colab_type": "code",
        "colab": {
          "base_uri": "https://localhost:8080/",
          "height": 34
        },
        "outputId": "83e9ed5b-95eb-4764-b452-f2429f73ba22"
      },
      "source": [
        "my_dads_phone = my_phone\n",
        "print(my_dads_phone)"
      ],
      "execution_count": 15,
      "outputs": [
        {
          "output_type": "stream",
          "text": [
            "['iphone 5s', True, 4.3]\n"
          ],
          "name": "stdout"
        }
      ]
    },
    {
      "cell_type": "code",
      "metadata": {
        "id": "xPcuFxEaySzv",
        "colab_type": "code",
        "colab": {}
      },
      "source": [
        "my_phone[2]=4"
      ],
      "execution_count": 0,
      "outputs": []
    },
    {
      "cell_type": "code",
      "metadata": {
        "id": "2lQgBaD4ygH1",
        "colab_type": "code",
        "colab": {
          "base_uri": "https://localhost:8080/",
          "height": 34
        },
        "outputId": "bb0e3afe-5989-4dc7-fba8-65f733755602"
      },
      "source": [
        "print(my_phone)"
      ],
      "execution_count": 17,
      "outputs": [
        {
          "output_type": "stream",
          "text": [
            "['iphone 5s', True, 4]\n"
          ],
          "name": "stdout"
        }
      ]
    },
    {
      "cell_type": "code",
      "metadata": {
        "id": "0oiJgga3yiwz",
        "colab_type": "code",
        "colab": {
          "base_uri": "https://localhost:8080/",
          "height": 34
        },
        "outputId": "117af2cd-7ab8-4ffb-936c-d41db3ff6a29"
      },
      "source": [
        "print(my_dads_phone)"
      ],
      "execution_count": 18,
      "outputs": [
        {
          "output_type": "stream",
          "text": [
            "['iphone 5s', True, 4]\n"
          ],
          "name": "stdout"
        }
      ]
    },
    {
      "cell_type": "code",
      "metadata": {
        "id": "KlgeqUS4yxP5",
        "colab_type": "code",
        "colab": {
          "base_uri": "https://localhost:8080/",
          "height": 51
        },
        "outputId": "72f167ab-4873-46ec-d56d-0a1dc1cae6a2"
      },
      "source": [
        "my_dads_phone = list(my_phone)\n",
        "my_phone[2]=4.3\n",
        "print(my_dads_phone)\n",
        "print(my_phone)"
      ],
      "execution_count": 19,
      "outputs": [
        {
          "output_type": "stream",
          "text": [
            "['iphone 5s', True, 4]\n",
            "['iphone 5s', True, 4.3]\n"
          ],
          "name": "stdout"
        }
      ]
    },
    {
      "cell_type": "code",
      "metadata": {
        "id": "8sq7uN-Vzdvx",
        "colab_type": "code",
        "colab": {
          "base_uri": "https://localhost:8080/",
          "height": 34
        },
        "outputId": "d42c1f92-30a0-499f-91ad-0f553395a883"
      },
      "source": [
        "len(my_phone)"
      ],
      "execution_count": 20,
      "outputs": [
        {
          "output_type": "execute_result",
          "data": {
            "text/plain": [
              "3"
            ]
          },
          "metadata": {
            "tags": []
          },
          "execution_count": 20
        }
      ]
    },
    {
      "cell_type": "code",
      "metadata": {
        "id": "Gj1aqXrDzrU_",
        "colab_type": "code",
        "colab": {
          "base_uri": "https://localhost:8080/",
          "height": 34
        },
        "outputId": "030d436c-9b52-4724-ba54-c4fffad42435"
      },
      "source": [
        "my_phone.append('3G')\n",
        "print(my_phone)"
      ],
      "execution_count": 21,
      "outputs": [
        {
          "output_type": "stream",
          "text": [
            "['iphone 5s', True, 4.3, '3G']\n"
          ],
          "name": "stdout"
        }
      ]
    },
    {
      "cell_type": "code",
      "metadata": {
        "id": "L4iTAhroz68j",
        "colab_type": "code",
        "colab": {
          "base_uri": "https://localhost:8080/",
          "height": 34
        },
        "outputId": "e4b377fd-aec3-4c13-aeb0-257cd9e63686"
      },
      "source": [
        "len(my_phone)"
      ],
      "execution_count": 22,
      "outputs": [
        {
          "output_type": "execute_result",
          "data": {
            "text/plain": [
              "4"
            ]
          },
          "metadata": {
            "tags": []
          },
          "execution_count": 22
        }
      ]
    },
    {
      "cell_type": "code",
      "metadata": {
        "id": "AmbLFcsi0CuC",
        "colab_type": "code",
        "colab": {
          "base_uri": "https://localhost:8080/",
          "height": 34
        },
        "outputId": "ee2b2a59-591f-4189-847d-856c57855952"
      },
      "source": [
        "iphone5s_some_prefs = ['single_sim', 35000]\n",
        "my_phone = my_phone + iphone5s_some_prefs\n",
        "print(my_phone)"
      ],
      "execution_count": 23,
      "outputs": [
        {
          "output_type": "stream",
          "text": [
            "['iphone 5s', True, 4.3, '3G', 'single_sim', 35000]\n"
          ],
          "name": "stdout"
        }
      ]
    },
    {
      "cell_type": "code",
      "metadata": {
        "id": "SJW_0pii0vqA",
        "colab_type": "code",
        "colab": {
          "base_uri": "https://localhost:8080/",
          "height": 119
        },
        "outputId": "41face7a-b2e1-4b7a-c28f-fafdb4270593"
      },
      "source": [
        "for data in my_phone:\n",
        "  print(data)"
      ],
      "execution_count": 24,
      "outputs": [
        {
          "output_type": "stream",
          "text": [
            "iphone 5s\n",
            "True\n",
            "4.3\n",
            "3G\n",
            "single_sim\n",
            "35000\n"
          ],
          "name": "stdout"
        }
      ]
    },
    {
      "cell_type": "code",
      "metadata": {
        "id": "f2TH3H3H1ATC",
        "colab_type": "code",
        "colab": {
          "base_uri": "https://localhost:8080/",
          "height": 51
        },
        "outputId": "60b02fed-6641-4b05-8302-7afec9de64b7"
      },
      "source": [
        "print(list(range(5)))"
      ],
      "execution_count": 25,
      "outputs": [
        {
          "output_type": "stream",
          "text": [
            "[0, 1, 2, 3, 4]\n",
            "ERROR! Session/line number was not unique in database. History logging moved to new session 59\n"
          ],
          "name": "stdout"
        }
      ]
    },
    {
      "cell_type": "code",
      "metadata": {
        "id": "lzXO_zrX1h7p",
        "colab_type": "code",
        "colab": {}
      },
      "source": [
        "a = list(range(5))"
      ],
      "execution_count": 0,
      "outputs": []
    },
    {
      "cell_type": "code",
      "metadata": {
        "id": "R1Rr3Mnd2G3C",
        "colab_type": "code",
        "colab": {
          "base_uri": "https://localhost:8080/",
          "height": 34
        },
        "outputId": "1eef7879-0640-4746-d722-1f2685b6797e"
      },
      "source": [
        "print(a)"
      ],
      "execution_count": 27,
      "outputs": [
        {
          "output_type": "stream",
          "text": [
            "[0, 1, 2, 3, 4]\n"
          ],
          "name": "stdout"
        }
      ]
    },
    {
      "cell_type": "code",
      "metadata": {
        "id": "kOx4zdRR2JCH",
        "colab_type": "code",
        "colab": {
          "base_uri": "https://localhost:8080/",
          "height": 34
        },
        "outputId": "45c7ea44-2cf0-4334-966e-28cbb493d9c0"
      },
      "source": [
        "b = list(map(lambda x: x**2, a))\n",
        "print(b)"
      ],
      "execution_count": 28,
      "outputs": [
        {
          "output_type": "stream",
          "text": [
            "[0, 1, 4, 9, 16]\n"
          ],
          "name": "stdout"
        }
      ]
    },
    {
      "cell_type": "code",
      "metadata": {
        "id": "rTzdkHNs2kY-",
        "colab_type": "code",
        "colab": {
          "base_uri": "https://localhost:8080/",
          "height": 34
        },
        "outputId": "1392fcc7-095a-4f23-92cf-c8223939c8e6"
      },
      "source": [
        "c = list(filter(lambda x : x%2==0, b))\n",
        "print(c)"
      ],
      "execution_count": 29,
      "outputs": [
        {
          "output_type": "stream",
          "text": [
            "[0, 4, 16]\n"
          ],
          "name": "stdout"
        }
      ]
    },
    {
      "cell_type": "markdown",
      "metadata": {
        "id": "qYRQs_ZV3YCq",
        "colab_type": "text"
      },
      "source": [
        "# TUPLE, SETS AND DICTIONARY"
      ]
    },
    {
      "cell_type": "code",
      "metadata": {
        "id": "JLrwFfLX3LOf",
        "colab_type": "code",
        "colab": {
          "base_uri": "https://localhost:8080/",
          "height": 34
        },
        "outputId": "0aa7d2cf-a1ec-49fa-dc55-ed791f7f4782"
      },
      "source": [
        "print(my_phone)"
      ],
      "execution_count": 30,
      "outputs": [
        {
          "output_type": "stream",
          "text": [
            "['iphone 5s', True, 4.3, '3G', 'single_sim', 35000]\n"
          ],
          "name": "stdout"
        }
      ]
    },
    {
      "cell_type": "code",
      "metadata": {
        "id": "hKIUfvdO3qjO",
        "colab_type": "code",
        "colab": {
          "base_uri": "https://localhost:8080/",
          "height": 51
        },
        "outputId": "ad838835-61f9-49e4-8bfc-f6a653d2ef0a"
      },
      "source": [
        "my_phone_tuple = ('iphone_5s', False, 4.3)\n",
        "print(my_phone_tuple)\n",
        "type(my_phone_tuple)"
      ],
      "execution_count": 31,
      "outputs": [
        {
          "output_type": "stream",
          "text": [
            "('iphone_5s', False, 4.3)\n"
          ],
          "name": "stdout"
        },
        {
          "output_type": "execute_result",
          "data": {
            "text/plain": [
              "tuple"
            ]
          },
          "metadata": {
            "tags": []
          },
          "execution_count": 31
        }
      ]
    },
    {
      "cell_type": "code",
      "metadata": {
        "id": "aZftqRHX4bph",
        "colab_type": "code",
        "colab": {
          "base_uri": "https://localhost:8080/",
          "height": 34
        },
        "outputId": "9389b0aa-80c2-4f6c-d366-ec0dbdeba93a"
      },
      "source": [
        "my_phone_tuple[0]\n",
        "print(my_phone_tuple)"
      ],
      "execution_count": 32,
      "outputs": [
        {
          "output_type": "stream",
          "text": [
            "('iphone_5s', False, 4.3)\n"
          ],
          "name": "stdout"
        }
      ]
    },
    {
      "cell_type": "code",
      "metadata": {
        "id": "AxZKxcho4o1p",
        "colab_type": "code",
        "colab": {
          "base_uri": "https://localhost:8080/",
          "height": 34
        },
        "outputId": "30648485-eee2-427b-fc3a-21183d76d1bc"
      },
      "source": [
        "my_phone_tuple[0]"
      ],
      "execution_count": 33,
      "outputs": [
        {
          "output_type": "execute_result",
          "data": {
            "text/plain": [
              "'iphone_5s'"
            ]
          },
          "metadata": {
            "tags": []
          },
          "execution_count": 33
        }
      ]
    },
    {
      "cell_type": "code",
      "metadata": {
        "id": "Vmh-DZ7p4ykY",
        "colab_type": "code",
        "colab": {
          "base_uri": "https://localhost:8080/",
          "height": 68
        },
        "outputId": "c63e1578-cd65-46c5-f4d3-d905c7c03796"
      },
      "source": [
        "for data in my_phone_tuple:\n",
        "  print(data)"
      ],
      "execution_count": 34,
      "outputs": [
        {
          "output_type": "stream",
          "text": [
            "iphone_5s\n",
            "False\n",
            "4.3\n"
          ],
          "name": "stdout"
        }
      ]
    },
    {
      "cell_type": "code",
      "metadata": {
        "id": "yc7JrvRv4_ye",
        "colab_type": "code",
        "colab": {
          "base_uri": "https://localhost:8080/",
          "height": 34
        },
        "outputId": "95ca68df-8d05-49af-9641-81615079e5f0"
      },
      "source": [
        "my_set = set(my_phone)\n",
        "print(my_set)"
      ],
      "execution_count": 35,
      "outputs": [
        {
          "output_type": "stream",
          "text": [
            "{True, 4.3, 'iphone 5s', 'single_sim', 35000, '3G'}\n"
          ],
          "name": "stdout"
        }
      ]
    },
    {
      "cell_type": "code",
      "metadata": {
        "id": "10ojq_e_6szq",
        "colab_type": "code",
        "colab": {
          "base_uri": "https://localhost:8080/",
          "height": 34
        },
        "outputId": "10edb125-ae8c-4efc-b69f-5f34c6724b08"
      },
      "source": [
        "my_phone.append(4.3)\n",
        "print(my_phone)"
      ],
      "execution_count": 36,
      "outputs": [
        {
          "output_type": "stream",
          "text": [
            "['iphone 5s', True, 4.3, '3G', 'single_sim', 35000, 4.3]\n"
          ],
          "name": "stdout"
        }
      ]
    },
    {
      "cell_type": "code",
      "metadata": {
        "id": "RDX0HpfB7W0-",
        "colab_type": "code",
        "colab": {
          "base_uri": "https://localhost:8080/",
          "height": 34
        },
        "outputId": "b019bd3d-8d93-4e82-ea98-1362fa3bc46c"
      },
      "source": [
        "my_set = set(my_phone)\n",
        "print(my_phone)"
      ],
      "execution_count": 37,
      "outputs": [
        {
          "output_type": "stream",
          "text": [
            "['iphone 5s', True, 4.3, '3G', 'single_sim', 35000, 4.3]\n"
          ],
          "name": "stdout"
        }
      ]
    },
    {
      "cell_type": "code",
      "metadata": {
        "id": "1d7kWZWa7igp",
        "colab_type": "code",
        "colab": {
          "base_uri": "https://localhost:8080/",
          "height": 34
        },
        "outputId": "80151a38-711a-4958-87a0-00f9b26e897b"
      },
      "source": [
        "print(my_set)"
      ],
      "execution_count": 38,
      "outputs": [
        {
          "output_type": "stream",
          "text": [
            "{True, 4.3, 'iphone 5s', 'single_sim', 35000, '3G'}\n"
          ],
          "name": "stdout"
        }
      ]
    },
    {
      "cell_type": "code",
      "metadata": {
        "id": "-gj10PIf7s-7",
        "colab_type": "code",
        "colab": {
          "base_uri": "https://localhost:8080/",
          "height": 34
        },
        "outputId": "2a57f5ee-0df0-49d8-b1cf-4856de46cbe0"
      },
      "source": [
        "my_phone_dict = {}\n",
        "type(my_phone_dict)"
      ],
      "execution_count": 39,
      "outputs": [
        {
          "output_type": "execute_result",
          "data": {
            "text/plain": [
              "dict"
            ]
          },
          "metadata": {
            "tags": []
          },
          "execution_count": 39
        }
      ]
    },
    {
      "cell_type": "code",
      "metadata": {
        "id": "Xw0bnw-v8an3",
        "colab_type": "code",
        "colab": {
          "base_uri": "https://localhost:8080/",
          "height": 34
        },
        "outputId": "e2369619-16c3-47b3-d045-79b578d2909b"
      },
      "source": [
        "my_phone_dict [ 'name'] = 'iphone_5s'\n",
        "my_phone_dict [ 'is_android'] = False\n",
        "my_phone_dict ['screen_size'] = 4.3\n",
        "print(my_phone_dict)"
      ],
      "execution_count": 40,
      "outputs": [
        {
          "output_type": "stream",
          "text": [
            "{'name': 'iphone_5s', 'is_android': False, 'screen_size': 4.3}\n"
          ],
          "name": "stdout"
        }
      ]
    },
    {
      "cell_type": "code",
      "metadata": {
        "id": "Vqbjdnv49IIS",
        "colab_type": "code",
        "colab": {
          "base_uri": "https://localhost:8080/",
          "height": 34
        },
        "outputId": "7db57983-25cf-4066-fc4d-cb2b4c4e0f0f"
      },
      "source": [
        "my_phone_dict ['name']"
      ],
      "execution_count": 41,
      "outputs": [
        {
          "output_type": "execute_result",
          "data": {
            "text/plain": [
              "'iphone_5s'"
            ]
          },
          "metadata": {
            "tags": []
          },
          "execution_count": 41
        }
      ]
    },
    {
      "cell_type": "code",
      "metadata": {
        "id": "qSqkPgpZ9aIA",
        "colab_type": "code",
        "colab": {
          "base_uri": "https://localhost:8080/",
          "height": 34
        },
        "outputId": "4dc59202-b717-4ee5-bbcd-7296fd50501b"
      },
      "source": [
        "print(my_phone_dict.keys())"
      ],
      "execution_count": 42,
      "outputs": [
        {
          "output_type": "stream",
          "text": [
            "dict_keys(['name', 'is_android', 'screen_size'])\n"
          ],
          "name": "stdout"
        }
      ]
    },
    {
      "cell_type": "code",
      "metadata": {
        "id": "Bd4_Kg4S9xv7",
        "colab_type": "code",
        "colab": {
          "base_uri": "https://localhost:8080/",
          "height": 34
        },
        "outputId": "4097b220-1cd4-432f-9e96-8f46549ce02c"
      },
      "source": [
        "print(my_phone_dict.values())"
      ],
      "execution_count": 43,
      "outputs": [
        {
          "output_type": "stream",
          "text": [
            "dict_values(['iphone_5s', False, 4.3])\n"
          ],
          "name": "stdout"
        }
      ]
    },
    {
      "cell_type": "code",
      "metadata": {
        "id": "2Nn0RfcB92sz",
        "colab_type": "code",
        "colab": {
          "base_uri": "https://localhost:8080/",
          "height": 34
        },
        "outputId": "857e8e97-a3c1-41de-decc-92b34ccaa941"
      },
      "source": [
        "print(my_phone_dict.items())"
      ],
      "execution_count": 44,
      "outputs": [
        {
          "output_type": "stream",
          "text": [
            "dict_items([('name', 'iphone_5s'), ('is_android', False), ('screen_size', 4.3)])\n"
          ],
          "name": "stdout"
        }
      ]
    },
    {
      "cell_type": "code",
      "metadata": {
        "id": "9pSg4NCA-JhQ",
        "colab_type": "code",
        "colab": {
          "base_uri": "https://localhost:8080/",
          "height": 68
        },
        "outputId": "6d69e276-e12e-4ff4-8a42-a9e1027735c1"
      },
      "source": [
        "for key in my_phone_dict.keys():\n",
        "  print(key, ':', my_phone_dict[key])"
      ],
      "execution_count": 47,
      "outputs": [
        {
          "output_type": "stream",
          "text": [
            "name : iphone_5s\n",
            "is_android : False\n",
            "screen_size : 4.3\n"
          ],
          "name": "stdout"
        }
      ]
    },
    {
      "cell_type": "markdown",
      "metadata": {
        "id": "nCfgTx20_gL9",
        "colab_type": "text"
      },
      "source": [
        "# Packages"
      ]
    },
    {
      "cell_type": "code",
      "metadata": {
        "id": "uif5B43K-fgS",
        "colab_type": "code",
        "colab": {}
      },
      "source": [
        "import math"
      ],
      "execution_count": 0,
      "outputs": []
    },
    {
      "cell_type": "code",
      "metadata": {
        "id": "137sb67H_ptr",
        "colab_type": "code",
        "colab": {
          "base_uri": "https://localhost:8080/",
          "height": 34
        },
        "outputId": "2716aa6f-6627-43e4-d926-8c29e0b2e808"
      },
      "source": [
        "a = math.sqrt(100)\n",
        "print(a)"
      ],
      "execution_count": 49,
      "outputs": [
        {
          "output_type": "stream",
          "text": [
            "10.0\n"
          ],
          "name": "stdout"
        }
      ]
    },
    {
      "cell_type": "code",
      "metadata": {
        "id": "2rw0y2Dh_xM2",
        "colab_type": "code",
        "colab": {
          "base_uri": "https://localhost:8080/",
          "height": 34
        },
        "outputId": "ccf0484d-4d9a-4315-b7d6-bde22fa72c7e"
      },
      "source": [
        "a = math.pow(100, 0.5)\n",
        "print(a)"
      ],
      "execution_count": 50,
      "outputs": [
        {
          "output_type": "stream",
          "text": [
            "10.0\n"
          ],
          "name": "stdout"
        }
      ]
    },
    {
      "cell_type": "code",
      "metadata": {
        "id": "JSQecJV3_-Tb",
        "colab_type": "code",
        "colab": {
          "base_uri": "https://localhost:8080/",
          "height": 54
        },
        "outputId": "400d091d-ff9d-4caf-e6d0-77ecb5130591"
      },
      "source": [
        "x = 100\n",
        "y = 1\n",
        "for i in range (1, x):\n",
        "  y = y*i\n",
        "print('Factorial of', x, 'is', y)"
      ],
      "execution_count": 51,
      "outputs": [
        {
          "output_type": "stream",
          "text": [
            "Factorial of 100 is 933262154439441526816992388562667004907159682643816214685929638952175999932299156089414639761565182862536979208272237582511852109168640000000000000000000000\n"
          ],
          "name": "stdout"
        }
      ]
    },
    {
      "cell_type": "code",
      "metadata": {
        "id": "WQ96BG15D2h3",
        "colab_type": "code",
        "colab": {}
      },
      "source": [
        "y = math.factorial(x)"
      ],
      "execution_count": 0,
      "outputs": []
    },
    {
      "cell_type": "code",
      "metadata": {
        "id": "FLh-bgXBELgt",
        "colab_type": "code",
        "colab": {}
      },
      "source": [
        "import math as m\n",
        "y = m.factorial(x)"
      ],
      "execution_count": 0,
      "outputs": []
    },
    {
      "cell_type": "code",
      "metadata": {
        "id": "XcXbx2mdESTL",
        "colab_type": "code",
        "colab": {}
      },
      "source": [
        "from math import factorial\n",
        "y = factorial(x)"
      ],
      "execution_count": 0,
      "outputs": []
    },
    {
      "cell_type": "markdown",
      "metadata": {
        "id": "KbdY4aAJft7w",
        "colab_type": "text"
      },
      "source": [
        "# PLotting"
      ]
    },
    {
      "cell_type": "code",
      "metadata": {
        "id": "wic98LDMEft-",
        "colab_type": "code",
        "colab": {}
      },
      "source": [
        "import matplotlib.pyplot as plt"
      ],
      "execution_count": 0,
      "outputs": []
    },
    {
      "cell_type": "code",
      "metadata": {
        "id": "ylIrHw2egOJk",
        "colab_type": "code",
        "colab": {}
      },
      "source": [
        "import numpy as np\n"
      ],
      "execution_count": 0,
      "outputs": []
    },
    {
      "cell_type": "code",
      "metadata": {
        "id": "IO9rQK5Yf7H-",
        "colab_type": "code",
        "colab": {}
      },
      "source": [
        "x = np.random.random((10,1))"
      ],
      "execution_count": 0,
      "outputs": []
    },
    {
      "cell_type": "code",
      "metadata": {
        "id": "S5InbwHrgS-F",
        "colab_type": "code",
        "colab": {
          "base_uri": "https://localhost:8080/",
          "height": 187
        },
        "outputId": "0ad77d81-f24e-4689-b990-6510d1d96902"
      },
      "source": [
        "print(x)"
      ],
      "execution_count": 59,
      "outputs": [
        {
          "output_type": "stream",
          "text": [
            "[[0.57343921]\n",
            " [0.15349721]\n",
            " [0.39422596]\n",
            " [0.4319687 ]\n",
            " [0.76651214]\n",
            " [0.43265504]\n",
            " [0.37833886]\n",
            " [0.1909299 ]\n",
            " [0.99301064]\n",
            " [0.05596225]]\n"
          ],
          "name": "stdout"
        }
      ]
    },
    {
      "cell_type": "code",
      "metadata": {
        "id": "xvlYeVnHgXnP",
        "colab_type": "code",
        "colab": {
          "base_uri": "https://localhost:8080/",
          "height": 265
        },
        "outputId": "a92bde67-b5c1-4b46-b41b-3cc82fba1717"
      },
      "source": [
        "plt.plot(x)\n",
        "plt.show()"
      ],
      "execution_count": 60,
      "outputs": [
        {
          "output_type": "display_data",
          "data": {
            "image/png": "[encoded data removed]",
            "text/plain": [
              "<Figure size 432x288 with 1 Axes>"
            ]
          },
          "metadata": {
            "tags": []
          }
        }
      ]
    },
    {
      "cell_type": "code",
      "metadata": {
        "id": "2eKr2ksbgvHt",
        "colab_type": "code",
        "colab": {
          "base_uri": "https://localhost:8080/",
          "height": 265
        },
        "outputId": "fc6bf314-4e3c-4e2c-e703-dee2294811ca"
      },
      "source": [
        "plt.plot(x,'*')\n",
        "plt.show()"
      ],
      "execution_count": 62,
      "outputs": [
        {
          "output_type": "display_data",
          "data": {
            "image/png": "[encoded data removed]",
            "text/plain": [
              "<Figure size 432x288 with 1 Axes>"
            ]
          },
          "metadata": {
            "tags": []
          }
        }
      ]
    },
    {
      "cell_type": "code",
      "metadata": {
        "id": "LMUFU91og_mU",
        "colab_type": "code",
        "colab": {
          "base_uri": "https://localhost:8080/",
          "height": 265
        },
        "outputId": "dfacbd1e-a266-4b90-f71c-d5485ee92e81"
      },
      "source": [
        "plt.plot(x,'*-')\n",
        "plt.show()"
      ],
      "execution_count": 67,
      "outputs": [
        {
          "output_type": "display_data",
          "data": {
            "image/png": "[encoded data removed]",
            "text/plain": [
              "<Figure size 432x288 with 1 Axes>"
            ]
          },
          "metadata": {
            "tags": []
          }
        }
      ]
    },
    {
      "cell_type": "code",
      "metadata": {
        "id": "X-xV3iwhhNme",
        "colab_type": "code",
        "colab": {
          "base_uri": "https://localhost:8080/",
          "height": 265
        },
        "outputId": "6582fa29-0b9c-4c6c-ede6-38d46a9b015f"
      },
      "source": [
        "x = np.linspace(0,10,100)\n",
        "y = np.power(x,0.5)\n",
        "plt.plot(x,y)\n",
        "plt.show()"
      ],
      "execution_count": 68,
      "outputs": [
        {
          "output_type": "display_data",
          "data": {
            "image/png": "[encoded data removed]",
            "text/plain": [
              "<Figure size 432x288 with 1 Axes>"
            ]
          },
          "metadata": {
            "tags": []
          }
        }
      ]
    },
    {
      "cell_type": "code",
      "metadata": {
        "id": "tgxoTkq6ibw0",
        "colab_type": "code",
        "colab": {
          "base_uri": "https://localhost:8080/",
          "height": 265
        },
        "outputId": "84792e0b-6544-4865-a55c-421d48e8bb8f"
      },
      "source": [
        "x = np.linspace(0,10,100)\n",
        "y = np.power(x,0.5)\n",
        "plt.plot(x,y,'*')\n",
        "plt.show()"
      ],
      "execution_count": 69,
      "outputs": [
        {
          "output_type": "display_data",
          "data": {
            "image/png": "[encoded data removed]",
            "text/plain": [
              "<Figure size 432x288 with 1 Axes>"
            ]
          },
          "metadata": {
            "tags": []
          }
        }
      ]
    },
    {
      "cell_type": "code",
      "metadata": {
        "id": "2bzRlgMeimXt",
        "colab_type": "code",
        "colab": {
          "base_uri": "https://localhost:8080/",
          "height": 265
        },
        "outputId": "25061241-afff-4612-9816-8ae1f9779fce"
      },
      "source": [
        "x = np.linspace(0,10,100)\n",
        "y = np.power(x,0.5)\n",
        "plt.plot(x,y,'+')\n",
        "plt.show()"
      ],
      "execution_count": 70,
      "outputs": [
        {
          "output_type": "display_data",
          "data": {
            "image/png": "[encoded data removed]",
            "text/plain": [
              "<Figure size 432x288 with 1 Axes>"
            ]
          },
          "metadata": {
            "tags": []
          }
        }
      ]
    },
    {
      "cell_type": "code",
      "metadata": {
        "id": "e5r4Mna5iqFK",
        "colab_type": "code",
        "colab": {
          "base_uri": "https://localhost:8080/",
          "height": 265
        },
        "outputId": "a3c5b320-a08c-4a97-a7f3-320e76d412c5"
      },
      "source": [
        "x = np.linspace(0,10,100)\n",
        "y = np.power(x,2)\n",
        "plt.plot(x,y,'+')\n",
        "plt.show()"
      ],
      "execution_count": 71,
      "outputs": [
        {
          "output_type": "display_data",
          "data": {
            "image/png": "[encoded data removed]",
            "text/plain": [
              "<Figure size 432x288 with 1 Axes>"
            ]
          },
          "metadata": {
            "tags": []
          }
        }
      ]
    },
    {
      "cell_type": "code",
      "metadata": {
        "id": "Y56VxFqXiyfe",
        "colab_type": "code",
        "colab": {
          "base_uri": "https://localhost:8080/",
          "height": 265
        },
        "outputId": "12851203-f0c5-4bd6-d639-1aabbd52591f"
      },
      "source": [
        "x = np.linspace(0,100,100)\n",
        "y = np.power(x,2)\n",
        "plt.plot(x,y)\n",
        "plt.show()"
      ],
      "execution_count": 72,
      "outputs": [
        {
          "output_type": "display_data",
          "data": {
            "image/png": "[encoded data removed]",
            "text/plain": [
              "<Figure size 432x288 with 1 Axes>"
            ]
          },
          "metadata": {
            "tags": []
          }
        }
      ]
    },
    {
      "cell_type": "code",
      "metadata": {
        "id": "pNq-blkyjLGN",
        "colab_type": "code",
        "colab": {}
      },
      "source": [
        "import seaborn as sns"
      ],
      "execution_count": 0,
      "outputs": []
    },
    {
      "cell_type": "code",
      "metadata": {
        "id": "M7oRIDD8jOwu",
        "colab_type": "code",
        "colab": {}
      },
      "source": [
        "sns.set()"
      ],
      "execution_count": 0,
      "outputs": []
    },
    {
      "cell_type": "code",
      "metadata": {
        "id": "zSIF4sHwjU09",
        "colab_type": "code",
        "colab": {
          "base_uri": "https://localhost:8080/",
          "height": 285
        },
        "outputId": "93eca8a4-a8d2-49dc-a6ed-22c53338abec"
      },
      "source": [
        "sns.lineplot(x,y)"
      ],
      "execution_count": 75,
      "outputs": [
        {
          "output_type": "execute_result",
          "data": {
            "text/plain": [
              "<matplotlib.axes._subplots.AxesSubplot at 0x7f0bdc4bf828>"
            ]
          },
          "metadata": {
            "tags": []
          },
          "execution_count": 75
        },
        {
          "output_type": "display_data",
          "data": {
            "image/png": "[encoded data removed]",
            "text/plain": [
              "<Figure size 432x288 with 1 Axes>"
            ]
          },
          "metadata": {
            "tags": []
          }
        }
      ]
    },
    {
      "cell_type": "markdown",
      "metadata": {
        "id": "DYK-QTb9kv7V",
        "colab_type": "text"
      },
      "source": [
        "# Pandas"
      ]
    },
    {
      "cell_type": "code",
      "metadata": {
        "id": "G0MkxxXxlKDt",
        "colab_type": "code",
        "colab": {
          "base_uri": "https://localhost:8080/",
          "height": 309
        },
        "outputId": "60158e3f-971e-4003-9751-2dd7d8bbcf89"
      },
      "source": [
        "!wget https://drive.google.com/drive/my-drive/mobile_cleaned.csv"
      ],
      "execution_count": 78,
      "outputs": [
        {
          "output_type": "stream",
          "text": [
            "--2020-03-27 10:45:09--  https://drive.google.com/drive/my-drive/mobile_cleaned.csv\n",
            "Resolving drive.google.com (drive.google.com)... 74.125.204.102, 74.125.204.101, 74.125.204.138, ...\n",
            "Connecting to drive.google.com (drive.google.com)|74.125.204.102|:443... connected.\n",
            "HTTP request sent, awaiting response... 302 Found\n",
            "Location: https://accounts.google.com/ServiceLogin?service=wise&passive=1209600&continue=https://drive.google.com/drive/my-drive/mobile_cleaned.csv&followup=https://drive.google.com/drive/my-drive/mobile_cleaned.csv [following]\n",
            "--2020-03-27 10:45:10--  https://accounts.google.com/ServiceLogin?service=wise&passive=1209600&continue=https://drive.google.com/drive/my-drive/mobile_cleaned.csv&followup=https://drive.google.com/drive/my-drive/mobile_cleaned.csv\n",
            "Resolving accounts.google.com (accounts.google.com)... 108.177.97.84, 2404:6800:4008:c05::54\n",
            "Connecting to accounts.google.com (accounts.google.com)|108.177.97.84|:443... connected.\n",
            "HTTP request sent, awaiting response... 200 OK\n",
            "Length: unspecified [text/html]\n",
            "Saving to: ‘mobile_cleaned.csv’\n",
            "\n",
            "\rmobile_cleaned.csv      [<=>                 ]       0  --.-KB/s               \rmobile_cleaned.csv      [ <=>                ]  55.90K  --.-KB/s    in 0.001s  \n",
            "\n",
            "2020-03-27 10:45:10 (87.8 MB/s) - ‘mobile_cleaned.csv’ saved [57246]\n",
            "\n"
          ],
          "name": "stdout"
        }
      ]
    },
    {
      "cell_type": "code",
      "metadata": {
        "id": "6taEyCT4mJ6x",
        "colab_type": "code",
        "colab": {
          "base_uri": "https://localhost:8080/",
          "height": 51
        },
        "outputId": "9b49f4ba-f59d-44eb-e30e-18d080e90414"
      },
      "source": [
        "!ls\n"
      ],
      "execution_count": 86,
      "outputs": [
        {
          "output_type": "stream",
          "text": [
            "ERROR! Session/line number was not unique in database. History logging moved to new session 60\n",
            "mobile_cleaned.csv  my-drive  sample_data\n"
          ],
          "name": "stdout"
        }
      ]
    },
    {
      "cell_type": "code",
      "metadata": {
        "id": "ynReCE61m-ST",
        "colab_type": "code",
        "colab": {}
      },
      "source": [
        "import pandas as pd\n"
      ],
      "execution_count": 0,
      "outputs": []
    },
    {
      "cell_type": "code",
      "metadata": {
        "id": "_E4V3K_CnLHp",
        "colab_type": "code",
        "colab": {
          "base_uri": "https://localhost:8080/",
          "height": 357
        },
        "outputId": "9cdc95e1-0e03-461a-d74b-69b3d4832c4a"
      },
      "source": [
        "uniform_data = np.random.rand(10,12)\n",
        "print(uniform_data)"
      ],
      "execution_count": 89,
      "outputs": [
        {
          "output_type": "stream",
          "text": [
            "[[0.22950432 0.56718022 0.49096923 0.34085517 0.14696824 0.07428421\n",
            "  0.89561007 0.61924805 0.86390855 0.05702377 0.52429815 0.46428323]\n",
            " [0.79727823 0.81358853 0.47175206 0.43265948 0.64499827 0.60046394\n",
            "  0.35415804 0.99040953 0.97119741 0.96708718 0.3650896  0.05171061]\n",
            " [0.62599732 0.42450604 0.29701172 0.69603257 0.06387992 0.35502771\n",
            "  0.94012732 0.84491779 0.53752712 0.04723704 0.9900759  0.94256061]\n",
            " [0.95467329 0.51191555 0.89925255 0.10159026 0.37432526 0.12581584\n",
            "  0.85682054 0.0905124  0.59992387 0.09423651 0.61803819 0.57214103]\n",
            " [0.85836227 0.86662854 0.41044091 0.37807045 0.72288692 0.61710036\n",
            "  0.33621851 0.10601427 0.33776746 0.67001581 0.35168146 0.73320035]\n",
            " [0.58480696 0.46532559 0.63061173 0.32655324 0.67506528 0.2606239\n",
            "  0.76740049 0.72959923 0.23504299 0.13975997 0.4432129  0.22193397]\n",
            " [0.73470751 0.05061784 0.81158925 0.92278992 0.86462722 0.16594108\n",
            "  0.16837373 0.11724756 0.70565984 0.34852171 0.94850382 0.51916236]\n",
            " [0.82098724 0.9455937  0.80925307 0.74104893 0.88916044 0.63534072\n",
            "  0.89160438 0.24820613 0.66884977 0.74935569 0.55229361 0.41642249]\n",
            " [0.75997573 0.74462725 0.65490307 0.5548276  0.60976706 0.28976596\n",
            "  0.42338475 0.93450744 0.9585388  0.84855881 0.19497879 0.86523078]\n",
            " [0.47241229 0.30664351 0.3873225  0.81367668 0.86622204 0.74046186\n",
            "  0.50527918 0.66826861 0.89325067 0.79751755 0.12595484 0.52222645]]\n"
          ],
          "name": "stdout"
        }
      ]
    },
    {
      "cell_type": "code",
      "metadata": {
        "id": "_xsZ1qaXpzKB",
        "colab_type": "code",
        "colab": {
          "base_uri": "https://localhost:8080/",
          "height": 268
        },
        "outputId": "fc2122e1-9537-4054-812b-455886a788ff"
      },
      "source": [
        "ax = sns.heatmap(uniform_data)"
      ],
      "execution_count": 91,
      "outputs": [
        {
          "output_type": "display_data",
          "data": {
            "image/png": "[encoded data removed]",
            "text/plain": [
              "<Figure size 432x288 with 2 Axes>"
            ]
          },
          "metadata": {
            "tags": []
          }
        }
      ]
    },
    {
      "cell_type": "code",
      "metadata": {
        "id": "LicqIwOyqFw_",
        "colab_type": "code",
        "colab": {
          "base_uri": "https://localhost:8080/",
          "height": 204
        },
        "outputId": "e464b22f-d75b-4067-abc0-48101dc148e3"
      },
      "source": [
        "!wget https://s3.amazonaws.com/thinkific-import/153034/XfxPA9yiSveRI11RE6Pf_padhai-1%20%281%29.png"
      ],
      "execution_count": 92,
      "outputs": [
        {
          "output_type": "stream",
          "text": [
            "--2020-03-27 11:07:36--  https://s3.amazonaws.com/thinkific-import/153034/XfxPA9yiSveRI11RE6Pf_padhai-1%20%281%29.png\n",
            "Resolving s3.amazonaws.com (s3.amazonaws.com)... 52.216.229.197\n",
            "Connecting to s3.amazonaws.com (s3.amazonaws.com)|52.216.229.197|:443... connected.\n",
            "HTTP request sent, awaiting response... 200 OK\n",
            "Length: 298528 (292K) [image/png]\n",
            "Saving to: ‘XfxPA9yiSveRI11RE6Pf_padhai-1 (1).png’\n",
            "\n",
            "XfxPA9yiSveRI11RE6P 100%[===================>] 291.53K   405KB/s    in 0.7s    \n",
            "\n",
            "2020-03-27 11:07:38 (405 KB/s) - ‘XfxPA9yiSveRI11RE6Pf_padhai-1 (1).png’ saved [298528/298528]\n",
            "\n"
          ],
          "name": "stdout"
        }
      ]
    },
    {
      "cell_type": "code",
      "metadata": {
        "id": "758i9bUErPbC",
        "colab_type": "code",
        "colab": {
          "base_uri": "https://localhost:8080/",
          "height": 51
        },
        "outputId": "ad0eaf83-0128-4196-ec77-acf98288a3cc"
      },
      "source": [
        "!ls"
      ],
      "execution_count": 93,
      "outputs": [
        {
          "output_type": "stream",
          "text": [
            " mobile_cleaned.csv   sample_data\n",
            " my-drive\t     'XfxPA9yiSveRI11RE6Pf_padhai-1 (1).png'\n"
          ],
          "name": "stdout"
        }
      ]
    },
    {
      "cell_type": "code",
      "metadata": {
        "id": "hqZ4YOQxrY5k",
        "colab_type": "code",
        "colab": {
          "base_uri": "https://localhost:8080/",
          "height": 51
        },
        "outputId": "7d6c1fae-3e97-4e50-84c7-c63ce8812ecc"
      },
      "source": [
        "!mv XfxPA9yiSveRI11RE6Pf_padhai-1 (1).png onefourthlabs.png"
      ],
      "execution_count": 94,
      "outputs": [
        {
          "output_type": "stream",
          "text": [
            "/bin/bash: -c: line 0: syntax error near unexpected token `('\n",
            "/bin/bash: -c: line 0: `mv XfxPA9yiSveRI11RE6Pf_padhai-1 (1).png onefourthlabs.png'\n"
          ],
          "name": "stdout"
        }
      ]
    },
    {
      "cell_type": "code",
      "metadata": {
        "id": "VJ4O7VtAr7bK",
        "colab_type": "code",
        "colab": {
          "base_uri": "https://localhost:8080/",
          "height": 51
        },
        "outputId": "21b55b77-6f8f-42ba-dc56-c434bbe028ce"
      },
      "source": [
        "!ls"
      ],
      "execution_count": 95,
      "outputs": [
        {
          "output_type": "stream",
          "text": [
            " mobile_cleaned.csv   sample_data\n",
            " my-drive\t     'XfxPA9yiSveRI11RE6Pf_padhai-1 (1).png'\n"
          ],
          "name": "stdout"
        }
      ]
    },
    {
      "cell_type": "code",
      "metadata": {
        "id": "m3cbNH6Nr-nO",
        "colab_type": "code",
        "colab": {
          "base_uri": "https://localhost:8080/",
          "height": 51
        },
        "outputId": "bf4623ef-826b-4823-c207-3303c663c18c"
      },
      "source": [
        "!mv XfxPA9yiSveRI11RE6Pf_padhai-1 (1).png as onefourthlabs.png"
      ],
      "execution_count": 96,
      "outputs": [
        {
          "output_type": "stream",
          "text": [
            "/bin/bash: -c: line 0: syntax error near unexpected token `('\n",
            "/bin/bash: -c: line 0: `mv XfxPA9yiSveRI11RE6Pf_padhai-1 (1).png as onefourthlabs.png'\n"
          ],
          "name": "stdout"
        }
      ]
    },
    {
      "cell_type": "code",
      "metadata": {
        "id": "hGKQMLQfsbFH",
        "colab_type": "code",
        "colab": {
          "base_uri": "https://localhost:8080/",
          "height": 51
        },
        "outputId": "f437d213-300f-4ff5-efe0-ff734b3973cc"
      },
      "source": [
        "!ls"
      ],
      "execution_count": 97,
      "outputs": [
        {
          "output_type": "stream",
          "text": [
            " mobile_cleaned.csv   sample_data\n",
            " my-drive\t     'XfxPA9yiSveRI11RE6Pf_padhai-1 (1).png'\n"
          ],
          "name": "stdout"
        }
      ]
    },
    {
      "cell_type": "code",
      "metadata": {
        "id": "k_WayCuvscgv",
        "colab_type": "code",
        "colab": {}
      },
      "source": [
        "import matplotlib.image as impng"
      ],
      "execution_count": 0,
      "outputs": []
    },
    {
      "cell_type": "code",
      "metadata": {
        "id": "QcTjbxtPsxFd",
        "colab_type": "code",
        "colab": {}
      },
      "source": [
        "img = impng.imread('XfxPA9yiSveRI11RE6Pf_padhai-1 (1).png')"
      ],
      "execution_count": 0,
      "outputs": []
    },
    {
      "cell_type": "code",
      "metadata": {
        "id": "cnZb__O5tM0H",
        "colab_type": "code",
        "colab": {
          "base_uri": "https://localhost:8080/",
          "height": 850
        },
        "outputId": "cfb2b115-1f38-4340-e77e-058d404e8eaf"
      },
      "source": [
        "print(img)"
      ],
      "execution_count": 100,
      "outputs": [
        {
          "output_type": "stream",
          "text": [
            "[[[0.03137255 0.2627451  0.42352942 1.        ]\n",
            "  [0.03137255 0.2627451  0.42352942 1.        ]\n",
            "  [0.03137255 0.2627451  0.42352942 1.        ]\n",
            "  ...\n",
            "  [0.03137255 0.2627451  0.42352942 1.        ]\n",
            "  [0.03137255 0.2627451  0.42352942 1.        ]\n",
            "  [0.03137255 0.2627451  0.42352942 1.        ]]\n",
            "\n",
            " [[0.03137255 0.2627451  0.42352942 1.        ]\n",
            "  [0.03137255 0.2627451  0.42352942 1.        ]\n",
            "  [0.03137255 0.2627451  0.42352942 1.        ]\n",
            "  ...\n",
            "  [0.03137255 0.2627451  0.42352942 1.        ]\n",
            "  [0.03137255 0.2627451  0.42352942 1.        ]\n",
            "  [0.03137255 0.2627451  0.42352942 1.        ]]\n",
            "\n",
            " [[0.03137255 0.2627451  0.42352942 1.        ]\n",
            "  [0.03137255 0.2627451  0.42352942 1.        ]\n",
            "  [0.03137255 0.2627451  0.42352942 1.        ]\n",
            "  ...\n",
            "  [0.03137255 0.2627451  0.42352942 1.        ]\n",
            "  [0.03137255 0.2627451  0.42352942 1.        ]\n",
            "  [0.03137255 0.2627451  0.42352942 1.        ]]\n",
            "\n",
            " ...\n",
            "\n",
            " [[0.03137255 0.2627451  0.42352942 1.        ]\n",
            "  [0.03137255 0.2627451  0.42352942 1.        ]\n",
            "  [0.03137255 0.2627451  0.42352942 1.        ]\n",
            "  ...\n",
            "  [0.03137255 0.2627451  0.42352942 1.        ]\n",
            "  [0.03137255 0.2627451  0.42352942 1.        ]\n",
            "  [0.03137255 0.2627451  0.42352942 1.        ]]\n",
            "\n",
            " [[0.03137255 0.2627451  0.42352942 1.        ]\n",
            "  [0.03137255 0.2627451  0.42352942 1.        ]\n",
            "  [0.03137255 0.2627451  0.42352942 1.        ]\n",
            "  ...\n",
            "  [0.03137255 0.2627451  0.42352942 1.        ]\n",
            "  [0.03137255 0.2627451  0.42352942 1.        ]\n",
            "  [0.03137255 0.2627451  0.42352942 1.        ]]\n",
            "\n",
            " [[0.03137255 0.2627451  0.42352942 1.        ]\n",
            "  [0.03137255 0.2627451  0.42352942 1.        ]\n",
            "  [0.03137255 0.2627451  0.42352942 1.        ]\n",
            "  ...\n",
            "  [0.03137255 0.2627451  0.42352942 1.        ]\n",
            "  [0.03137255 0.2627451  0.42352942 1.        ]\n",
            "  [0.03137255 0.2627451  0.42352942 1.        ]]]\n"
          ],
          "name": "stdout"
        }
      ]
    },
    {
      "cell_type": "code",
      "metadata": {
        "id": "iDDrYJE_tOqW",
        "colab_type": "code",
        "colab": {
          "base_uri": "https://localhost:8080/",
          "height": 272
        },
        "outputId": "03c809c5-3eb6-4c0a-bb70-36f96ca85455"
      },
      "source": [
        "imgplot = plt.imshow(img)"
      ],
      "execution_count": 101,
      "outputs": [
        {
          "output_type": "display_data",
          "data": {
            "image/png": "[encoded data removed]",
            "text/plain": [
              "<Figure size 432x288 with 1 Axes>"
            ]
          },
          "metadata": {
            "tags": []
          }
        }
      ]
    },
    {
      "cell_type": "code",
      "metadata": {
        "id": "RDKkNw9DvXnj",
        "colab_type": "code",
        "colab": {}
      },
      "source": [
        ""
      ],
      "execution_count": 0,
      "outputs": []
    }
  ]
}